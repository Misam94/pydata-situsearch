{
 "cells": [
  {
   "cell_type": "markdown",
   "metadata": {},
   "source": [
    "## Munkres / Hungarian algorithm"
   ]
  },
  {
   "cell_type": "code",
   "execution_count": 2,
   "metadata": {
    "collapsed": true
   },
   "outputs": [],
   "source": [
    "from scipy.spatial import distance\n",
    "from munkres import munkres\n",
    "import numpy as np"
   ]
  },
  {
   "cell_type": "code",
   "execution_count": 3,
   "metadata": {
    "collapsed": false
   },
   "outputs": [
    {
     "name": "stdout",
     "output_type": "stream",
     "text": [
      "[[5. 0.]\n",
      " [0. 5.]]\n",
      "[[False  True]\n",
      " [ True False]]\n",
      "0.0\n"
     ]
    }
   ],
   "source": [
    "frame1 = [(0, 0), (3, 4)]\n",
    "frame2 = [(3, 4), (0, 0)]\n",
    "\n",
    "distance_matrix = distance.cdist(frame1, frame2)\n",
    "print(distance_matrix)\n",
    "assignment = munkres(distance_matrix)\n",
    "print(assignment)\n",
    "cost = distance_matrix[assignment].sum()\n",
    "print(cost)"
   ]
  },
  {
   "cell_type": "code",
   "execution_count": 4,
   "metadata": {
    "collapsed": true
   },
   "outputs": [],
   "source": [
    "def calculate_distance(X, Y):\n",
    "    distance_matrix = distance.cdist(X, Y)\n",
    "    assignment = munkres(distance_matrix)\n",
    "    return distance_matrix[assignment].sum()\n"
   ]
  },
  {
   "cell_type": "code",
   "execution_count": 5,
   "metadata": {
    "collapsed": false
   },
   "outputs": [
    {
     "name": "stdout",
     "output_type": "stream",
     "text": [
      "45 µs ± 706 ns per loop (mean ± std. dev. of 7 runs, 10000 loops each)\n"
     ]
    }
   ],
   "source": [
    "%%timeit\n",
    "calculate_distance(frame1, frame2)"
   ]
  },
  {
   "cell_type": "code",
   "execution_count": 6,
   "metadata": {
    "collapsed": false
   },
   "outputs": [
    {
     "data": {
      "text/plain": [
       "(array([[0.9260427 , 0.60921874],\n",
       "        [0.19061324, 0.91909264],\n",
       "        [0.34878056, 0.25297231],\n",
       "        [0.13797586, 0.6992336 ],\n",
       "        [0.20976302, 0.45666601],\n",
       "        [0.30008269, 0.55558341],\n",
       "        [0.45975815, 0.18384112],\n",
       "        [0.33977761, 0.04467445],\n",
       "        [0.09613069, 0.81204136],\n",
       "        [0.83261651, 0.46246813],\n",
       "        [0.97344475, 0.89240573]]),\n",
       " array([[0.18152087, 0.9178373 ],\n",
       "        [0.9192994 , 0.60805294],\n",
       "        [0.83248104, 0.45687527],\n",
       "        [0.34391421, 0.2518138 ],\n",
       "        [0.29692226, 0.54960835],\n",
       "        [0.13261502, 0.69809946],\n",
       "        [0.33677253, 0.04292371],\n",
       "        [0.20307903, 0.44902641],\n",
       "        [0.44986469, 0.17421359],\n",
       "        [0.08880301, 0.8112658 ],\n",
       "        [0.96818604, 0.88994553]]))"
      ]
     },
     "execution_count": 6,
     "metadata": {},
     "output_type": "execute_result"
    }
   ],
   "source": [
    "frame1 = np.random.rand(11, 2)\n",
    "frame2 = frame1.copy()\n",
    "np.random.shuffle(frame2)\n",
    "movement = np.random.rand(11, 2) / 100\n",
    "frame2 += movement\n",
    "frame2, frame1\n"
   ]
  },
  {
   "cell_type": "code",
   "execution_count": 7,
   "metadata": {
    "collapsed": false
   },
   "outputs": [
    {
     "data": {
      "text/plain": [
       "array([[0.80595172, 0.00917862, 0.68558097, 0.22289851, 0.46203526,\n",
       "        0.38116241, 0.78496267, 0.88738862, 0.13595685, 0.79453547,\n",
       "        0.79233212],\n",
       "       [0.00684332, 0.79229365, 0.67199257, 0.78662595, 0.72550664,\n",
       "        0.62143575, 0.62540693, 0.80823316, 0.84806721, 0.1694369 ,\n",
       "        0.28946197],\n",
       "       [0.17878008, 0.79097356, 0.52492149, 0.735578  , 0.62271806,\n",
       "        0.54147142, 0.46202814, 0.64239099, 0.81752968, 0.0055945 ,\n",
       "        0.45777457],\n",
       "       [0.68308993, 0.68466213, 0.00500235, 0.49253942, 0.24486929,\n",
       "        0.30691559, 0.13431346, 0.20718065, 0.61257781, 0.53217025,\n",
       "        0.89814627],\n",
       "       [0.63193823, 0.38447399, 0.3011349 , 0.21829263, 0.12741669,\n",
       "        0.00675941, 0.40037632, 0.50674928, 0.33043658, 0.54273543,\n",
       "        0.75841461],\n",
       "       [0.79839042, 0.22847709, 0.49483909, 0.0054795 , 0.25345991,\n",
       "        0.21990053, 0.6094951 , 0.68547836, 0.11964055, 0.73859611,\n",
       "        0.86298874],\n",
       "       [0.81726947, 0.88827616, 0.21039155, 0.68575709, 0.43279799,\n",
       "        0.51397093, 0.18703791, 0.00347787, 0.80588488, 0.64952196,\n",
       "        1.06158901],\n",
       "       [0.74049851, 0.47023149, 0.24426655, 0.25853831, 0.01015082,\n",
       "        0.14409755, 0.36906289, 0.42683371, 0.37844127, 0.62968096,\n",
       "        0.88884676],\n",
       "       [0.64496122, 0.78870535, 0.12814421, 0.6106723 , 0.37071308,\n",
       "        0.40972868, 0.0138047 , 0.16999869, 0.7293504 , 0.47915512,\n",
       "        0.88878346],\n",
       "       [0.86127424, 0.14829683, 0.61585708, 0.12234861, 0.37466296,\n",
       "        0.33168145, 0.72888233, 0.80662912, 0.00736861, 0.82153413,\n",
       "        0.88835505],\n",
       "       [0.28387249, 0.7781189 , 0.88848074, 0.8518333 , 0.87346244,\n",
       "        0.74710114, 0.8701048 , 1.05327126, 0.87552818, 0.44845961,\n",
       "        0.00580574]])"
      ]
     },
     "execution_count": 7,
     "metadata": {},
     "output_type": "execute_result"
    }
   ],
   "source": [
    "distance_matrix = distance.cdist(frame1, frame2)\n",
    "distance_matrix"
   ]
  },
  {
   "cell_type": "code",
   "execution_count": 8,
   "metadata": {
    "collapsed": false
   },
   "outputs": [
    {
     "data": {
      "text/plain": [
       "array([[False,  True, False, False, False, False, False, False, False,\n",
       "        False, False],\n",
       "       [ True, False, False, False, False, False, False, False, False,\n",
       "        False, False],\n",
       "       [False, False, False, False, False, False, False, False, False,\n",
       "         True, False],\n",
       "       [False, False,  True, False, False, False, False, False, False,\n",
       "        False, False],\n",
       "       [False, False, False, False, False,  True, False, False, False,\n",
       "        False, False],\n",
       "       [False, False, False,  True, False, False, False, False, False,\n",
       "        False, False],\n",
       "       [False, False, False, False, False, False, False,  True, False,\n",
       "        False, False],\n",
       "       [False, False, False, False,  True, False, False, False, False,\n",
       "        False, False],\n",
       "       [False, False, False, False, False, False,  True, False, False,\n",
       "        False, False],\n",
       "       [False, False, False, False, False, False, False, False,  True,\n",
       "        False, False],\n",
       "       [False, False, False, False, False, False, False, False, False,\n",
       "        False,  True]])"
      ]
     },
     "execution_count": 8,
     "metadata": {},
     "output_type": "execute_result"
    }
   ],
   "source": [
    "assignment = munkres(distance_matrix)\n",
    "assignment"
   ]
  },
  {
   "cell_type": "code",
   "execution_count": 9,
   "metadata": {
    "collapsed": false
   },
   "outputs": [
    {
     "data": {
      "text/plain": [
       "array([0.00917862, 0.00684332, 0.0055945 , 0.00500235, 0.00675941,\n",
       "       0.0054795 , 0.00347787, 0.01015082, 0.0138047 , 0.00736861,\n",
       "       0.00580574])"
      ]
     },
     "execution_count": 9,
     "metadata": {},
     "output_type": "execute_result"
    }
   ],
   "source": [
    "distance_matrix[assignment]"
   ]
  },
  {
   "cell_type": "code",
   "execution_count": 10,
   "metadata": {
    "collapsed": false
   },
   "outputs": [
    {
     "data": {
      "text/plain": [
       "0.07946544260169368"
      ]
     },
     "execution_count": 10,
     "metadata": {},
     "output_type": "execute_result"
    }
   ],
   "source": [
    "distance_matrix[assignment].sum()"
   ]
  },
  {
   "cell_type": "code",
   "execution_count": 11,
   "metadata": {
    "collapsed": false
   },
   "outputs": [
    {
     "data": {
      "text/plain": [
       "0.07946544260169366"
      ]
     },
     "execution_count": 11,
     "metadata": {},
     "output_type": "execute_result"
    }
   ],
   "source": [
    "((movement[:, 0] ** 2 + movement[:, 1] ** 2) ** 0.5).sum()"
   ]
  },
  {
   "cell_type": "code",
   "execution_count": 12,
   "metadata": {
    "collapsed": false
   },
   "outputs": [
    {
     "name": "stdout",
     "output_type": "stream",
     "text": [
      "37.7 µs ± 793 ns per loop (mean ± std. dev. of 7 runs, 10000 loops each)\n"
     ]
    }
   ],
   "source": [
    "%%timeit\n",
    "calculate_distance(frame1, frame2)"
   ]
  },
  {
   "cell_type": "code",
   "execution_count": null,
   "metadata": {
    "collapsed": true
   },
   "outputs": [],
   "source": []
  }
 ],
 "metadata": {
  "kernelspec": {
   "display_name": "Python 3",
   "language": "python",
   "name": "python3"
  },
  "language_info": {
   "codemirror_mode": {
    "name": "ipython",
    "version": 3
   },
   "file_extension": ".py",
   "mimetype": "text/x-python",
   "name": "python",
   "nbconvert_exporter": "python",
   "pygments_lexer": "ipython3",
   "version": "3.7.6"
  }
 },
 "nbformat": 4,
 "nbformat_minor": 2
}
